{
 "cells": [
  {
   "cell_type": "markdown",
   "id": "03a54e1f",
   "metadata": {},
   "source": [
    "### Projetc 3 - Part 2 - EDA\n",
    "- Paula Pipkin"
   ]
  },
  {
   "cell_type": "code",
   "execution_count": 1,
   "id": "3e668cd4",
   "metadata": {},
   "outputs": [],
   "source": [
    "import pandas as pd\n",
    "import os, time,json\n",
    "import matplotlib.pyplot as plt\n",
    "import seaborn as sns\n",
    "\n",
    "import tmdbsimple as tmdb \n",
    "from tqdm.notebook import tqdm_notebook"
   ]
  },
  {
   "cell_type": "markdown",
   "id": "06311522",
   "metadata": {},
   "source": [
    "- How many movies are there in each of the certification categories (G/PG/PG-13/R)?"
   ]
  },
  {
   "cell_type": "code",
   "execution_count": 2,
   "id": "bf9c591c",
   "metadata": {},
   "outputs": [
    {
     "data": {
      "text/html": [
       "<div>\n",
       "<style scoped>\n",
       "    .dataframe tbody tr th:only-of-type {\n",
       "        vertical-align: middle;\n",
       "    }\n",
       "\n",
       "    .dataframe tbody tr th {\n",
       "        vertical-align: top;\n",
       "    }\n",
       "\n",
       "    .dataframe thead th {\n",
       "        text-align: right;\n",
       "    }\n",
       "</style>\n",
       "<table border=\"1\" class=\"dataframe\">\n",
       "  <thead>\n",
       "    <tr style=\"text-align: right;\">\n",
       "      <th></th>\n",
       "      <th>imdb_id</th>\n",
       "      <th>budget</th>\n",
       "      <th>revenue</th>\n",
       "      <th>certification</th>\n",
       "    </tr>\n",
       "  </thead>\n",
       "  <tbody>\n",
       "    <tr>\n",
       "      <th>0</th>\n",
       "      <td>tt0113026</td>\n",
       "      <td>10000000.0</td>\n",
       "      <td>0.0</td>\n",
       "      <td>NaN</td>\n",
       "    </tr>\n",
       "    <tr>\n",
       "      <th>1</th>\n",
       "      <td>tt0118694</td>\n",
       "      <td>150000.0</td>\n",
       "      <td>12854953.0</td>\n",
       "      <td>PG</td>\n",
       "    </tr>\n",
       "    <tr>\n",
       "      <th>2</th>\n",
       "      <td>tt0119273</td>\n",
       "      <td>15000000.0</td>\n",
       "      <td>0.0</td>\n",
       "      <td>R</td>\n",
       "    </tr>\n",
       "    <tr>\n",
       "      <th>3</th>\n",
       "      <td>tt0120263</td>\n",
       "      <td>0.0</td>\n",
       "      <td>80334.0</td>\n",
       "      <td>NaN</td>\n",
       "    </tr>\n",
       "    <tr>\n",
       "      <th>4</th>\n",
       "      <td>tt0120467</td>\n",
       "      <td>120000.0</td>\n",
       "      <td>14904.0</td>\n",
       "      <td>R</td>\n",
       "    </tr>\n",
       "  </tbody>\n",
       "</table>\n",
       "</div>"
      ],
      "text/plain": [
       "     imdb_id      budget     revenue certification\n",
       "0  tt0113026  10000000.0         0.0           NaN\n",
       "1  tt0118694    150000.0  12854953.0            PG\n",
       "2  tt0119273  15000000.0         0.0             R\n",
       "3  tt0120263         0.0     80334.0           NaN\n",
       "4  tt0120467    120000.0     14904.0             R"
      ]
     },
     "execution_count": 2,
     "metadata": {},
     "output_type": "execute_result"
    }
   ],
   "source": [
    "with_info = pd.read_csv('data/tmdb_results_combined.csv.gz')\n",
    "with_info.head()"
   ]
  },
  {
   "cell_type": "code",
   "execution_count": 3,
   "id": "184e0b74",
   "metadata": {},
   "outputs": [
    {
     "data": {
      "text/plain": [
       "Index(['R', 'PG-13', 'PG', 'NR', 'G'], dtype='object')"
      ]
     },
     "execution_count": 3,
     "metadata": {},
     "output_type": "execute_result"
    }
   ],
   "source": [
    "with_info['certification'].value_counts().index"
   ]
  },
  {
   "cell_type": "code",
   "execution_count": 4,
   "id": "ff7d0319",
   "metadata": {},
   "outputs": [
    {
     "data": {
      "image/png": "[encoded data removed]",
      "text/plain": [
       "<Figure size 600x300 with 1 Axes>"
      ]
     },
     "metadata": {},
     "output_type": "display_data"
    }
   ],
   "source": [
    "sns.set_theme(palette='pastel', style=\"white\")\n",
    "fig = plt.figure(figsize=(6, 3))\n",
    "\n",
    "plt.bar(with_info['certification'].value_counts().index, with_info['certification'].value_counts())\n",
    "\n",
    "plt.xlabel(\"Categories\")\n",
    "plt.ylabel(\"Total\")\n",
    "plt.title(\"Movies per category\");"
   ]
  },
  {
   "cell_type": "markdown",
   "id": "22498b5e",
   "metadata": {},
   "source": [
    "- What is the average revenue per certification category?"
   ]
  },
  {
   "cell_type": "code",
   "execution_count": 5,
   "id": "97ad3b3b",
   "metadata": {},
   "outputs": [
    {
     "data": {
      "text/html": [
       "<div>\n",
       "<style scoped>\n",
       "    .dataframe tbody tr th:only-of-type {\n",
       "        vertical-align: middle;\n",
       "    }\n",
       "\n",
       "    .dataframe tbody tr th {\n",
       "        vertical-align: top;\n",
       "    }\n",
       "\n",
       "    .dataframe thead th {\n",
       "        text-align: right;\n",
       "    }\n",
       "</style>\n",
       "<table border=\"1\" class=\"dataframe\">\n",
       "  <thead>\n",
       "    <tr style=\"text-align: right;\">\n",
       "      <th></th>\n",
       "      <th>certification</th>\n",
       "      <th>revenue</th>\n",
       "    </tr>\n",
       "  </thead>\n",
       "  <tbody>\n",
       "    <tr>\n",
       "      <th>0</th>\n",
       "      <td>G</td>\n",
       "      <td>74673753.5</td>\n",
       "    </tr>\n",
       "    <tr>\n",
       "      <th>1</th>\n",
       "      <td>NR</td>\n",
       "      <td>126783.0</td>\n",
       "    </tr>\n",
       "    <tr>\n",
       "      <th>2</th>\n",
       "      <td>PG</td>\n",
       "      <td>37036096.0</td>\n",
       "    </tr>\n",
       "    <tr>\n",
       "      <th>3</th>\n",
       "      <td>PG-13</td>\n",
       "      <td>51341082.0</td>\n",
       "    </tr>\n",
       "    <tr>\n",
       "      <th>4</th>\n",
       "      <td>R</td>\n",
       "      <td>5614869.0</td>\n",
       "    </tr>\n",
       "  </tbody>\n",
       "</table>\n",
       "</div>"
      ],
      "text/plain": [
       "  certification     revenue\n",
       "0             G  74673753.5\n",
       "1            NR    126783.0\n",
       "2            PG  37036096.0\n",
       "3         PG-13  51341082.0\n",
       "4             R   5614869.0"
      ]
     },
     "execution_count": 5,
     "metadata": {},
     "output_type": "execute_result"
    }
   ],
   "source": [
    "plot2 = with_info.groupby('certification', as_index=False)['revenue'].median()\n",
    "plot2"
   ]
  },
  {
   "cell_type": "code",
   "execution_count": 6,
   "id": "74fc8c1f",
   "metadata": {},
   "outputs": [
    {
     "data": {
      "image/png": "[encoded data removed]",
      "text/plain": [
       "<Figure size 600x300 with 1 Axes>"
      ]
     },
     "metadata": {},
     "output_type": "display_data"
    }
   ],
   "source": [
    "sns.set_theme(palette='pastel', style=\"white\")\n",
    "fig = plt.figure(figsize= (6,3))\n",
    "\n",
    "plt.bar(plot2['certification'], (plot2['revenue']/1000000))\n",
    "plt.title(\"Revenue in Millions per category\");\n"
   ]
  },
  {
   "cell_type": "markdown",
   "id": "e4176b74",
   "metadata": {},
   "source": [
    "- What is the average budget per certification category?"
   ]
  },
  {
   "cell_type": "code",
   "execution_count": 7,
   "id": "3030fc9e",
   "metadata": {},
   "outputs": [
    {
     "data": {
      "text/html": [
       "<div>\n",
       "<style scoped>\n",
       "    .dataframe tbody tr th:only-of-type {\n",
       "        vertical-align: middle;\n",
       "    }\n",
       "\n",
       "    .dataframe tbody tr th {\n",
       "        vertical-align: top;\n",
       "    }\n",
       "\n",
       "    .dataframe thead th {\n",
       "        text-align: right;\n",
       "    }\n",
       "</style>\n",
       "<table border=\"1\" class=\"dataframe\">\n",
       "  <thead>\n",
       "    <tr style=\"text-align: right;\">\n",
       "      <th></th>\n",
       "      <th>certification</th>\n",
       "      <th>budget</th>\n",
       "    </tr>\n",
       "  </thead>\n",
       "  <tbody>\n",
       "    <tr>\n",
       "      <th>0</th>\n",
       "      <td>G</td>\n",
       "      <td>30000000.0</td>\n",
       "    </tr>\n",
       "    <tr>\n",
       "      <th>1</th>\n",
       "      <td>NR</td>\n",
       "      <td>1200000.0</td>\n",
       "    </tr>\n",
       "    <tr>\n",
       "      <th>2</th>\n",
       "      <td>PG</td>\n",
       "      <td>32500000.0</td>\n",
       "    </tr>\n",
       "    <tr>\n",
       "      <th>3</th>\n",
       "      <td>PG-13</td>\n",
       "      <td>35000000.0</td>\n",
       "    </tr>\n",
       "    <tr>\n",
       "      <th>4</th>\n",
       "      <td>R</td>\n",
       "      <td>10000000.0</td>\n",
       "    </tr>\n",
       "  </tbody>\n",
       "</table>\n",
       "</div>"
      ],
      "text/plain": [
       "  certification      budget\n",
       "0             G  30000000.0\n",
       "1            NR   1200000.0\n",
       "2            PG  32500000.0\n",
       "3         PG-13  35000000.0\n",
       "4             R  10000000.0"
      ]
     },
     "execution_count": 7,
     "metadata": {},
     "output_type": "execute_result"
    }
   ],
   "source": [
    "plot3 = with_info.groupby('certification', as_index=False)['budget'].median()\n",
    "plot3"
   ]
  },
  {
   "cell_type": "code",
   "execution_count": 8,
   "id": "5e49ea42",
   "metadata": {},
   "outputs": [
    {
     "data": {
      "image/png": "[encoded data removed]",
      "text/plain": [
       "<Figure size 600x300 with 1 Axes>"
      ]
     },
     "metadata": {},
     "output_type": "display_data"
    }
   ],
   "source": [
    "sns.set_theme(palette='pastel', style=\"white\")\n",
    "fig = plt.figure(figsize= (6,3))\n",
    "\n",
    "plt.bar(plot3['certification'], (plot3['budget']/1000000))\n",
    "plt.title(\"Budget in Millions per category\");"
   ]
  },
  {
   "cell_type": "code",
   "execution_count": null,
   "id": "d0e18e73",
   "metadata": {},
   "outputs": [],
   "source": []
  }
 ],
 "metadata": {
  "kernelspec": {
   "display_name": "Python (dojo-env)",
   "language": "python",
   "name": "dojo-env"
  },
  "language_info": {
   "codemirror_mode": {
    "name": "ipython",
    "version": 3
   },
   "file_extension": ".py",
   "mimetype": "text/x-python",
   "name": "python",
   "nbconvert_exporter": "python",
   "pygments_lexer": "ipython3",
   "version": "3.8.13"
  },
  "toc": {
   "base_numbering": 1,
   "nav_menu": {},
   "number_sections": false,
   "sideBar": true,
   "skip_h1_title": false,
   "title_cell": "Table of Contents",
   "title_sidebar": "Contents",
   "toc_cell": false,
   "toc_position": {},
   "toc_section_display": true,
   "toc_window_display": false
  }
 },
 "nbformat": 4,
 "nbformat_minor": 5
}
