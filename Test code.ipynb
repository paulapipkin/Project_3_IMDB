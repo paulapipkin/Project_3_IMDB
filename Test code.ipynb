{
 "cells": [
  {
   "cell_type": "markdown",
   "id": "1ee559e9",
   "metadata": {},
   "source": [
    " #### Project 3 - Part 2\n",
    " \n",
    " - Paula Pipkin"
   ]
  },
  {
   "cell_type": "code",
   "execution_count": 1,
   "id": "1679c906",
   "metadata": {},
   "outputs": [],
   "source": [
    "import pandas as pd\n",
    "import os, time,json\n",
    "import tmdbsimple as tmdb \n",
    "from tqdm.notebook import tqdm_notebook"
   ]
  },
  {
   "cell_type": "code",
   "execution_count": 2,
   "id": "cf6d5a6e",
   "metadata": {},
   "outputs": [],
   "source": [
    "def write_json(new_data, filename): \n",
    "    \"\"\"Appends a list of records (new_data) to a json file (filename). \n",
    "    Adapted from: https://www.geeksforgeeks.org/append-to-json-file-using-python/\"\"\"  \n",
    "    \n",
    "    with open(filename,'r+') as file:\n",
    "        # First we load existing data into a dict.\n",
    "        file_data = json.load(file)\n",
    "        ## Choose extend or append\n",
    "        if (type(new_data) == list) & (type(file_data) == list):\n",
    "            file_data.extend(new_data)\n",
    "        else:\n",
    "             file_data.append(new_data)\n",
    "        # Sets file's current position at offset.\n",
    "        file.seek(0)\n",
    "        # convert back to json.\n",
    "        json.dump(file_data, file)"
   ]
  },
  {
   "cell_type": "code",
   "execution_count": 3,
   "id": "30c81b67",
   "metadata": {},
   "outputs": [],
   "source": [
    "def get_info(movie_id, data):\n",
    "    # Get the movie object for the current id\n",
    "    movie = tmdb.Movies(movie_id)\n",
    "    # save the .info .releases dictionaries\n",
    "    movie_info = movie.info()\n",
    "    fetch = {'imdb_id':movie_id, 'info':movie_info[data]}\n",
    "            \n",
    "    return fetch"
   ]
  },
  {
   "cell_type": "code",
   "execution_count": 4,
   "id": "7b993c33",
   "metadata": {},
   "outputs": [],
   "source": [
    "#get credentials\n",
    "\n",
    "with open('/Users/paula/.secret/tmdb_api.json', 'r') as f:\n",
    "    login = json.load(f)\n",
    "tmdb.API_KEY =  login['api-key']"
   ]
  },
  {
   "cell_type": "markdown",
   "id": "1186243c",
   "metadata": {},
   "source": [
    "### Part 2: Use an API to extract box office revenue and profit data to add to your IMDB data and perform exploratory data analysis."
   ]
  },
  {
   "cell_type": "markdown",
   "id": "f62d30f7",
   "metadata": {},
   "source": [
    "- Checking How ID appears in our table"
   ]
  },
  {
   "cell_type": "code",
   "execution_count": 5,
   "id": "e09ff04a",
   "metadata": {},
   "outputs": [
    {
     "data": {
      "text/plain": [
       "array(['tconst', 'titleType', 'primaryTitle', 'originalTitle', 'isAdult',\n",
       "       'startYear', 'runtimeMinutes', 'genres'], dtype=object)"
      ]
     },
     "execution_count": 5,
     "metadata": {},
     "output_type": "execute_result"
    }
   ],
   "source": [
    "df_basics = pd.read_csv('data/title_basics.csv.gz')\n",
    "df_basics.columns.values"
   ]
  },
  {
   "cell_type": "code",
   "execution_count": 6,
   "id": "0eece10b",
   "metadata": {},
   "outputs": [
    {
     "data": {
      "text/html": [
       "<div>\n",
       "<style scoped>\n",
       "    .dataframe tbody tr th:only-of-type {\n",
       "        vertical-align: middle;\n",
       "    }\n",
       "\n",
       "    .dataframe tbody tr th {\n",
       "        vertical-align: top;\n",
       "    }\n",
       "\n",
       "    .dataframe thead th {\n",
       "        text-align: right;\n",
       "    }\n",
       "</style>\n",
       "<table border=\"1\" class=\"dataframe\">\n",
       "  <thead>\n",
       "    <tr style=\"text-align: right;\">\n",
       "      <th></th>\n",
       "      <th>tconst</th>\n",
       "      <th>titleType</th>\n",
       "      <th>primaryTitle</th>\n",
       "      <th>originalTitle</th>\n",
       "      <th>isAdult</th>\n",
       "      <th>startYear</th>\n",
       "      <th>runtimeMinutes</th>\n",
       "      <th>genres</th>\n",
       "    </tr>\n",
       "  </thead>\n",
       "  <tbody>\n",
       "    <tr>\n",
       "      <th>0</th>\n",
       "      <td>tt0035423</td>\n",
       "      <td>movie</td>\n",
       "      <td>Kate &amp; Leopold</td>\n",
       "      <td>Kate &amp; Leopold</td>\n",
       "      <td>0</td>\n",
       "      <td>2001</td>\n",
       "      <td>118</td>\n",
       "      <td>Comedy,Fantasy,Romance</td>\n",
       "    </tr>\n",
       "    <tr>\n",
       "      <th>1</th>\n",
       "      <td>tt0062336</td>\n",
       "      <td>movie</td>\n",
       "      <td>The Tango of the Widower and Its Distorting Mi...</td>\n",
       "      <td>El Tango del Viudo y Su Espejo Deformante</td>\n",
       "      <td>0</td>\n",
       "      <td>2020</td>\n",
       "      <td>70</td>\n",
       "      <td>Drama</td>\n",
       "    </tr>\n",
       "    <tr>\n",
       "      <th>2</th>\n",
       "      <td>tt0069049</td>\n",
       "      <td>movie</td>\n",
       "      <td>The Other Side of the Wind</td>\n",
       "      <td>The Other Side of the Wind</td>\n",
       "      <td>0</td>\n",
       "      <td>2018</td>\n",
       "      <td>122</td>\n",
       "      <td>Drama</td>\n",
       "    </tr>\n",
       "    <tr>\n",
       "      <th>3</th>\n",
       "      <td>tt0088751</td>\n",
       "      <td>movie</td>\n",
       "      <td>The Naked Monster</td>\n",
       "      <td>The Naked Monster</td>\n",
       "      <td>0</td>\n",
       "      <td>2005</td>\n",
       "      <td>100</td>\n",
       "      <td>Comedy,Horror,Sci-Fi</td>\n",
       "    </tr>\n",
       "    <tr>\n",
       "      <th>4</th>\n",
       "      <td>tt0096056</td>\n",
       "      <td>movie</td>\n",
       "      <td>Crime and Punishment</td>\n",
       "      <td>Crime and Punishment</td>\n",
       "      <td>0</td>\n",
       "      <td>2002</td>\n",
       "      <td>126</td>\n",
       "      <td>Drama</td>\n",
       "    </tr>\n",
       "  </tbody>\n",
       "</table>\n",
       "</div>"
      ],
      "text/plain": [
       "      tconst titleType                                       primaryTitle  \\\n",
       "0  tt0035423     movie                                     Kate & Leopold   \n",
       "1  tt0062336     movie  The Tango of the Widower and Its Distorting Mi...   \n",
       "2  tt0069049     movie                         The Other Side of the Wind   \n",
       "3  tt0088751     movie                                  The Naked Monster   \n",
       "4  tt0096056     movie                               Crime and Punishment   \n",
       "\n",
       "                               originalTitle  isAdult  startYear  \\\n",
       "0                             Kate & Leopold        0       2001   \n",
       "1  El Tango del Viudo y Su Espejo Deformante        0       2020   \n",
       "2                 The Other Side of the Wind        0       2018   \n",
       "3                          The Naked Monster        0       2005   \n",
       "4                       Crime and Punishment        0       2002   \n",
       "\n",
       "   runtimeMinutes                  genres  \n",
       "0             118  Comedy,Fantasy,Romance  \n",
       "1              70                   Drama  \n",
       "2             122                   Drama  \n",
       "3             100    Comedy,Horror,Sci-Fi  \n",
       "4             126                   Drama  "
      ]
     },
     "execution_count": 6,
     "metadata": {},
     "output_type": "execute_result"
    }
   ],
   "source": [
    "df_basics.head()"
   ]
  },
  {
   "cell_type": "code",
   "execution_count": 7,
   "id": "db95be05",
   "metadata": {},
   "outputs": [
    {
     "data": {
      "text/plain": [
       "array(['tt0035423', 'tt0062336', 'tt0069049', 'tt0088751', 'tt0096056',\n",
       "       'tt0100275', 'tt0108549', 'tt0113026', 'tt0113092', 'tt0114447',\n",
       "       'tt0115937', 'tt0116391', 'tt0116628', 'tt0116991', 'tt0117743',\n",
       "       'tt0118141', 'tt0118589', 'tt0118652', 'tt0118694', 'tt0118710',\n",
       "       'tt0118852', 'tt0118926', 'tt0119004', 'tt0119231', 'tt0119273',\n",
       "       'tt0119495', 'tt0119806', 'tt0119966', 'tt0119970', 'tt0119980',\n",
       "       'tt0120166', 'tt0120202', 'tt0120263', 'tt0120467', 'tt0120589',\n",
       "       'tt0120607', 'tt0120624', 'tt0120626', 'tt0120630', 'tt0120667',\n",
       "       'tt0120679', 'tt0120681', 'tt0120698', 'tt0120733', 'tt0120737',\n",
       "       'tt0120753', 'tt0120755', 'tt0120804', 'tt0120807', 'tt0120824',\n",
       "       'tt0120903', 'tt0120912', 'tt0120913', 'tt0120917', 'tt0121164',\n",
       "       'tt0121765', 'tt0121766', 'tt0122161', 'tt0122247', 'tt0122459',\n",
       "       'tt0123003', 'tt0123055', 'tt0123581', 'tt0124889', 'tt0125022',\n",
       "       'tt0126029', 'tt0126899', 'tt0127349', 'tt0128158', 'tt0128165',\n",
       "       'tt0128216', 'tt0130623', 'tt0131597', 'tt0131704', 'tt0132078',\n",
       "       'tt0132245', 'tt0132885', 'tt0132910', 'tt0133063', 'tt0133152',\n",
       "       'tt0133240', 'tt0133752', 'tt0134084', 'tt0134630', 'tt0134847',\n",
       "       'tt0134983', 'tt0135707', 'tt0135991', 'tt0136517', 'tt0137204',\n",
       "       'tt0137698', 'tt0138288', 'tt0138353', 'tt0138524', 'tt0138749',\n",
       "       'tt0138818', 'tt0138927', 'tt0138946', 'tt0139159', 'tt0139297',\n",
       "       'tt0139388', 'tt0139500', 'tt0139654', 'tt0140806', 'tt0141120',\n",
       "       'tt0141907', 'tt0141926', 'tt0142634', 'tt0142650', 'tt0143344',\n",
       "       'tt0143558', 'tt0144084', 'tt0144142', 'tt0144280', 'tt0144528',\n",
       "       'tt0144574', 'tt0144608', 'tt0144964', 'tt0145487', 'tt0146063',\n",
       "       'tt0146272', 'tt0146309', 'tt0146316', 'tt0146803', 'tt0146882',\n",
       "       'tt0146984', 'tt0147447', 'tt0147486', 'tt0148120', 'tt0148415',\n",
       "       'tt0148421', 'tt0149253', 'tt0149367', 'tt0149624', 'tt0150021',\n",
       "       'tt0151150', 'tt0151299', 'tt0151309', 'tt0151685', 'tt0152083',\n",
       "       'tt0152772', 'tt0153012', 'tt0153100', 'tt0153464', 'tt0153516',\n",
       "       'tt0153517', 'tt0153533', 'tt0154187', 'tt0155150', 'tt0155723',\n",
       "       'tt0155754', 'tt0156020', 'tt0156100', 'tt0156323', 'tt0156376',\n",
       "       'tt0156741', 'tt0156757', 'tt0156807', 'tt0156812', 'tt0156841',\n",
       "       'tt0156942', 'tt0157007', 'tt0157122', 'tt0157191', 'tt0157202',\n",
       "       'tt0157262', 'tt0157472', 'tt0157583', 'tt0157836', 'tt0158033',\n",
       "       'tt0158622', 'tt0159273', 'tt0159290', 'tt0159291', 'tt0159365',\n",
       "       'tt0159371', 'tt0159378', 'tt0159396', 'tt0159784', 'tt0160009',\n",
       "       'tt0160127', 'tt0160182', 'tt0160184', 'tt0160239', 'tt0160240',\n",
       "       'tt0160256', 'tt0160261', 'tt0160270', 'tt0160275', 'tt0160289',\n",
       "       'tt0160399', 'tt0160403', 'tt0160425', 'tt0160434', 'tt0160447',\n",
       "       'tt0160480', 'tt0160484', 'tt0160495', 'tt0160547', 'tt0160611',\n",
       "       'tt0160616', 'tt0160644', 'tt0160652', 'tt0160663', 'tt0160706',\n",
       "       'tt0160710', 'tt0160749', 'tt0160751', 'tt0160759', 'tt0160797',\n",
       "       'tt0160859', 'tt0160870', 'tt0160905', 'tt0161003', 'tt0161081',\n",
       "       'tt0161083', 'tt0161088', 'tt0161216', 'tt0161860', 'tt0162030',\n",
       "       'tt0162203', 'tt0162222', 'tt0162346', 'tt0162650', 'tt0162711',\n",
       "       'tt0162838', 'tt0162983', 'tt0163025', 'tt0163080', 'tt0163125',\n",
       "       'tt0163246', 'tt0163596', 'tt0163676', 'tt0163745', 'tt0163764',\n",
       "       'tt0163978', 'tt0163983', 'tt0164003', 'tt0164052', 'tt0164182',\n",
       "       'tt0164184', 'tt0164192', 'tt0164212', 'tt0164318', 'tt0164334',\n",
       "       'tt0164545', 'tt0164810', 'tt0164953', 'tt0164961', 'tt0165361',\n",
       "       'tt0165400', 'tt0165452', 'tt0165642', 'tt0165713', 'tt0165800',\n",
       "       'tt0165832', 'tt0165928', 'tt0165929', 'tt0165982', 'tt0166013',\n",
       "       'tt0166110', 'tt0166158', 'tt0166186', 'tt0166192', 'tt0166276',\n",
       "       'tt0166339', 'tt0166370', 'tt0166813', 'tt0166924', 'tt0167116',\n",
       "       'tt0167183', 'tt0167190', 'tt0167203', 'tt0167260', 'tt0167261',\n",
       "       'tt0167360', 'tt0167367', 'tt0167456', 'tt0168446', 'tt0168504',\n",
       "       'tt0168509', 'tt0168578', 'tt0168612', 'tt0168629', 'tt0168631',\n",
       "       'tt0168714', 'tt0168786', 'tt0168856', 'tt0169102', 'tt0169122',\n",
       "       'tt0169324', 'tt0169543', 'tt0169579', 'tt0170008', 'tt0170016',\n",
       "       'tt0170367', 'tt0170452', 'tt0170508', 'tt0170691', 'tt0171339'],\n",
       "      dtype=object)"
      ]
     },
     "execution_count": 7,
     "metadata": {},
     "output_type": "execute_result"
    }
   ],
   "source": [
    "ids = df_basics['tconst'].values\n",
    "partial = ids[0:300]\n",
    "partial"
   ]
  },
  {
   "cell_type": "code",
   "execution_count": null,
   "id": "0033ca9e",
   "metadata": {},
   "outputs": [
    {
     "data": {
      "application/vnd.jupyter.widget-view+json": {
       "model_id": "39e4f172480b49798b0a0bf7877daa3c",
       "version_major": 2,
       "version_minor": 0
      },
      "text/plain": [
       "info:   0%|          | 0/2 [00:00<?, ?it/s]"
      ]
     },
     "metadata": {},
     "output_type": "display_data"
    },
    {
     "data": {
      "application/vnd.jupyter.widget-view+json": {
       "model_id": "88f070502a9a4f17b89365bc0f6afa34",
       "version_major": 2,
       "version_minor": 0
      },
      "text/plain": [
       "Movies budget:   0%|          | 0/82476 [00:00<?, ?it/s]"
      ]
     },
     "metadata": {},
     "output_type": "display_data"
    }
   ],
   "source": [
    "FOLDER = \"Data/\"\n",
    "os.makedirs(FOLDER, exist_ok=True)\n",
    "os.listdir(FOLDER)\n",
    "\n",
    "info_TO_GET = ['budget','revenue']\n",
    "errors = [ ]\n",
    "\n",
    "# Start of OUTER loop\n",
    "for info in tqdm_notebook(info_TO_GET, desc='info', position=0):\n",
    "    #Defining the JSON file to store results for year\n",
    "    JSON_FILE = f'{FOLDER}tmdb_api_results_{info}.json'\n",
    "    # Check if file exists\n",
    "    file_exists = os.path.isfile(JSON_FILE)\n",
    "    # If it does not exist: create it\n",
    "    if file_exists == False:\n",
    "        # save an empty dict with just \"imdb_id\" to the new json file.\n",
    "        with open(JSON_FILE,'w') as f:\n",
    "            json.dump([{'imdb_id':0,'info':0 }],f)\n",
    "    # saving movie ids to list\n",
    "    movie_ids = df_basics['tconst'].copy()\n",
    "    # Load existing data from json into a dataframe called \"previous_df\"\n",
    "    previous_df = pd.read_json(JSON_FILE)\n",
    "    # filter out any ids that are already in the JSON_FILE\n",
    "    movie_ids_to_get = movie_ids[~movie_ids.isin(previous_df['imdb_id'])]\n",
    "        #Get index and movie id from list # partial\n",
    "    # INNER Loop\n",
    "    for movie_id in tqdm_notebook(movie_ids_to_get,\n",
    "                                  desc=f'Movies {info}',\n",
    "                                  position=1,\n",
    "                                  leave=True):\n",
    "        try:\n",
    "            # Retrieve then data for the movie id\n",
    "            temp = get_info(movie_id,info)  \n",
    "            # Append/extend results to existing file using a pre-made function\n",
    "            write_json(temp,JSON_FILE)\n",
    "            # Short 20 ms sleep to prevent overwhelming server\n",
    "            time.sleep(0.02)\n",
    "            \n",
    "        except Exception as e:\n",
    "            errors.append([movie_id, e])\n",
    "    final_info_df = pd.read_json(JSON_FILE)\n",
    "    final_info_df.to_csv(f\"{FOLDER}final_tmdb_data_{info}.csv.gz\", compression=\"gzip\", index=False)\n",
    "\n",
    "print(f\"- Total errors: {len(errors)}\")"
   ]
  },
  {
   "cell_type": "code",
   "execution_count": null,
   "id": "fcdba6cf",
   "metadata": {},
   "outputs": [],
   "source": [
    "df_budget = pd.read_csv('data/final_tmdb_data_budget.csv.gz')\n",
    "df_budget.head()"
   ]
  },
  {
   "cell_type": "code",
   "execution_count": null,
   "id": "902262ac",
   "metadata": {},
   "outputs": [],
   "source": []
  }
 ],
 "metadata": {
  "kernelspec": {
   "display_name": "Python (dojo-env)",
   "language": "python",
   "name": "dojo-env"
  },
  "language_info": {
   "codemirror_mode": {
    "name": "ipython",
    "version": 3
   },
   "file_extension": ".py",
   "mimetype": "text/x-python",
   "name": "python",
   "nbconvert_exporter": "python",
   "pygments_lexer": "ipython3",
   "version": "3.8.13"
  },
  "toc": {
   "base_numbering": 1,
   "nav_menu": {},
   "number_sections": false,
   "sideBar": true,
   "skip_h1_title": false,
   "title_cell": "Table of Contents",
   "title_sidebar": "Contents",
   "toc_cell": false,
   "toc_position": {},
   "toc_section_display": true,
   "toc_window_display": false
  }
 },
 "nbformat": 4,
 "nbformat_minor": 5
}
